{
 "cells": [
  {
   "cell_type": "code",
   "execution_count": 4,
   "id": "fa447ccd",
   "metadata": {},
   "outputs": [
    {
     "name": "stdout",
     "output_type": "stream",
     "text": [
      "# Rulebook for Lead Generation\n",
      "\n",
      "# Keywords to ignore\n",
      "ignore_keywords:\n",
      "  - sports\n",
      "  - entertainment\n",
      "  - politics\n",
      "  - crime\n",
      "  - weather\n",
      "  - accident\n",
      "  - tragedy\n",
      "  - disaster\n",
      "  - celebrity\n",
      "  - movie\n",
      "  - music\n",
      "  - tv\n",
      "  - festival\n",
      "  - holiday\n",
      "  - vacation\n",
      "  - travel\n",
      "  - food\n",
      "  - fashion\n",
      "  - beauty\n",
      "  - lifestyle\n",
      "  - gossip\n",
      "  - rumor\n",
      "  - scandal\n",
      "  - controversy\n",
      "\n",
      "\n",
      "\n"
     ]
    }
   ],
   "source": [
    "with open(\"rulebook.txt\",\"r\") as f:\n",
    "    data=f.read()\n",
    "    print(data)"
   ]
  },
  {
   "cell_type": "code",
   "execution_count": 17,
   "id": "9e01684f",
   "metadata": {},
   "outputs": [
    {
     "name": "stdout",
     "output_type": "stream",
     "text": [
      "Agriculture\n",
      "Manufacturing\n",
      "Construction\n",
      "Hospitals and Health Care\n",
      "Financial Services\n",
      "Real Estate\n",
      "Transportation\n",
      "Energy\n",
      "Technology, Information and Internet\n",
      "Retail\n",
      "Hospitality\n",
      "Education\n",
      "Media and Telecommunications\n",
      "Government\n"
     ]
    }
   ],
   "source": [
    "import json\n",
    "with open(\"category_list.json\",\"r\",encoding=\"utf-8\") as f:\n",
    "    data=json.load(f)\n",
    "for i in data[\"categories\"]:\n",
    "    print(i[\"name\"])"
   ]
  },
  {
   "cell_type": "code",
   "execution_count": null,
   "id": "f35e39fa",
   "metadata": {},
   "outputs": [],
   "source": []
  }
 ],
 "metadata": {
  "kernelspec": {
   "display_name": "Python 3",
   "language": "python",
   "name": "python3"
  },
  "language_info": {
   "codemirror_mode": {
    "name": "ipython",
    "version": 3
   },
   "file_extension": ".py",
   "mimetype": "text/x-python",
   "name": "python",
   "nbconvert_exporter": "python",
   "pygments_lexer": "ipython3",
   "version": "3.11.5"
  }
 },
 "nbformat": 4,
 "nbformat_minor": 5
}
