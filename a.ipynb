{
 "cells": [
  {
   "cell_type": "code",
   "execution_count": 33,
   "id": "62c8435d",
   "metadata": {},
   "outputs": [
    {
     "name": "stdout",
     "output_type": "stream",
     "text": [
      "Over 80% jump: The city that outpaced Delhi, Mumbai in property price growth\n",
      "Listen to Story\n",
      "It’s not Delhi. It’s not Mumbai. Over the past four years, the Indian city with the steepest rise in home prices is Hyderabad, clocking a staggering 80% jump in average residential property rates. The southern metro city has overtaken not only the national capital Delhi and financial hub Mumbai, but also major tech centres such as Bengaluru and Noida, establishing itself as India's top-performing property market amongst major cities, as per a LinkedIn post by Gurugram-based investment banker Sarthak Ahuja.\n",
      "The city's growth has been nothing short of remarkable, setting a new benchmark for price appreciation in the region. Ahuja has meticulously analysed data on average residential property price movements across these metro cities since 2020. Ahuja said, \"And no, #1 is not Gurgaon\" highlighting the unexpected nature of Hyderabad's rise.\n",
      "Ahuja's analysis focused on citywide averages rather than individual cases where properties might have tripled in value. His approach ensures a more accurate representation of the market trends, providing valuable insights for investors and analysts alike.\n",
      "Trailing behind Hyderabad in this remarkable growth are Noida, with a 70% rise, and Gurugram, where prices have increased by 60%. Meanwhile, Delhi and Bengaluru both reported a 45% gain in property prices, whereas Mumbai's growth was a modest 40%. These figures indicate a significant shift in the property market dynamics across major Indian cities, reflecting changing investor preferences and economic conditions.\n",
      "\"There are outliers in every city where someone will say their property 3Xed in four years. But here, we’re discussing averages for the market,\" Ahuja noted. His analysis highlighted the importance of focusing on overall market trends rather than isolated cases. This objective approach reveals a broader picture of the real estate landscape, where Hyderabad's performance is particularly striking. Such insights are crucial for stakeholders aiming to navigate the complexities of the property market effectively.\n",
      "The average appreciation for metro India stood at about 50%, which means that most cities have underperformed relative to this benchmark. \"Now, all these cities have underperformed the average increment,\" Ahuja said, reinforcing Hyderabad's outlier status in the national context. This disparity highlights the unique factors driving Hyderabad's success, setting it apart from its peers.\n",
      "Ahuja attributes Hyderabad's property market surge to several factors: astute demand bets, an aggressive push for infrastructure development, and bullish investor sentiment. These elements combined have created a conducive environment for substantial property price growth.\n",
      "This trend highlights a noteworthy shift in the real estate market focus, with Hyderabad now taking the lead. For property investors and market analysts, the city's progression presents both a model of success and a new focal point for future investments. The implications of this shift are profound, potentially reshaping investment strategies and priorities across the sector.Published By: Koustav DasPublished On: Jun 17, 2025Must Watch \n",
      "\n"
     ]
    }
   ],
   "source": [
    "#india today\n",
    "import requests\n",
    "from bs4 import BeautifulSoup\n",
    "\n",
    "url = 'https://www.indiatoday.in/business/personal-finance/story/hyderabad-real-estate-price-rise-80-percent-outpaces-delhi-mumbai-bengaluru-2742020-2025-06-17'\n",
    "response = requests.get(url)\n",
    "soup = BeautifulSoup(response.content, 'html.parser')\n",
    "\n",
    "main_content = soup.find('main', class_='main__content')\n",
    "p_tags = main_content.find_all('p')\n",
    "h1_tags=main_content.find(\"h1\")\n",
    "\n",
    "for i in h1_tags:\n",
    "    print(i.text)\n",
    "for tag in p_tags:\n",
    "    print(tag.text)\n",
    "\n"
   ]
  },
  {
   "cell_type": "code",
   "execution_count": 35,
   "id": "c5476e73",
   "metadata": {},
   "outputs": [
    {
     "name": "stdout",
     "output_type": "stream",
     "text": [
      "Flames below deck: The silent threat lurking in cargo holds\n",
      "Water is the primary tool to douse fire. But why do ships floating on ocean waters catch fire? Of late, there seems to be an involvement of hazardous material, especially EVs in some of these fire accidents. Just three days apart, two Singapore-flagged cargo vessels charting similar routes towards Mumbai were hit by fire — one narrowly avoided disaster, the other plunged into crisis. On June 12, a blaze broke out aboard MV Interasia Tenacity,\n"
     ]
    }
   ],
   "source": [
    "#economictimes\n",
    "import requests\n",
    "from bs4 import BeautifulSoup\n",
    "\n",
    "url = 'https://economictimes.indiatimes.com/prime/economy-and-policy/flames-below-deck-the-silent-threat-lurking-in-cargo-holds/primearticleshow/121891425.cms?source=homepage&medium=prime_exclusives_header&campaign=prime_discovery'\n",
    "response = requests.get(url)\n",
    "soup = BeautifulSoup(response.content, 'html.parser')\n",
    "\n",
    "main_content = soup.find(\"div\",class_=\"clearfix main_container prel prt_cnt layout_mm\")\n",
    "con=soup.find(\"div\",class_=\"artText\")\n",
    "\n",
    "p_tags = main_content.find_all('p')\n",
    "h1_tags=main_content.find(\"h1\")\n",
    "print(h1_tags.text)\n",
    "print(con.text)\n"
   ]
  },
  {
   "cell_type": "code",
   "execution_count": 40,
   "id": "4eaecd57",
   "metadata": {},
   "outputs": [
    {
     "name": "stdout",
     "output_type": "stream",
     "text": [
      "‘Not due to technical snag’: Air India clarifies after flight AI 159 from Ahmedabad to Gatwick gets cancelled\n",
      "Air India has issued a statement after its flight AI159 from Ahmedabad to Gatwick got cancelled, clarifying it was not due to a technical snag. The flight, as per the airline, was unavailable due to airspace restrictions and precautionary checks.\n",
      "In a statement issued on Tuesday, an Air India spokesperson said that the Ahmedabad-Gatwick flight was unavailable due to longer turnaround time of the aircraft, denying reports of ‘technical snag’.\n",
      "“Flight AI159 from Ahmedabad to Gatwick has been cancelled today due to the unavailability of the aircraft, resulting from airspace restrictions and additional precautionary checks, leading to longer than usual turnaround of aircraft, and not due to any technical snag as claimed,” Air India said.\n",
      "The airline said that it has provided alternative arrangement for passengers and have provided them with hotel accommodations. \n",
      "“We regret the inconvenience caused to our passengers and have made alternative arrangements to fly them to their destination. We are providing hotel accommodation and also offering full refunds on cancellations or complimentary rescheduling if opted by the passengers,” Air India said.\n",
      "As a result of this, flight AI170 from London Gatwick to Amritsar was also cancelled.\n",
      "\"Consequently, flight AI170 from London Gatwick to Amritsar on 17th June stands cancelled,” the airline said.\n",
      "Air India's flight to London's Gatwick Airport from Ahmedabad was cancelled on Tuesday due to “operational issues”, an official said earlier. The flight has been operating under the new code post-June 12 AI-171 Air India plane crash.\n",
      "The Air India's official website had also confirmed that the AI-159 flight from Ahmedabad to the Gatwick airport in London stands cancelled after it was rescheduled. The plane was scheduled to depart at 3 pm from the Sardar Vallabhbhai Patel International Airport (SVPIA) in Ahmedabad.\n",
      "\"We have been informed that the flight has been cancelled due to operational issues. The original flight from Ahmedabad to London, having code AI-171, resumed operation from Monday with a new flight code AI-159,\" the airport official was quoted as saying by PTI.\n",
      "In a horrific incident on June 12, 241 people on board of Air India's Ahmedabad-London Gatwick flight suffered a deadly crash. The plane, with 242 passengers and crew crashed into a medical college complex in Ahmedabad moments after taking off from the airport at 1.39 pm.\n",
      "While 241 people died on spot with the Boeing 787-8 Dreamliner aircraft crashing, one person miraculously survived. \n",
      "Following the Air India plane crash, the DGCA ordered the airline to run safety checks on its Boeing 787 fleet.\n",
      "Stay updated with the latest Trending,  India ,  World and  United States news. Get breaking news and key updates here on Mint!\n"
     ]
    }
   ],
   "source": [
    "#livemint\n",
    "import requests\n",
    "from bs4 import BeautifulSoup\n",
    "\n",
    "url = 'https://www.livemint.com/news/not-due-to-technical-snag-air-india-clarifies-after-flight-ai-159-from-ahmedabad-to-gatwick-gets-cancelled-11750151681044.html'\n",
    "response = requests.get(url)\n",
    "soup = BeautifulSoup(response.content, 'html.parser')\n",
    "\n",
    "main_content = soup.find(\"div\",class_=\"storyPage_storyBox__9iWpG storyBoxSchema\")\n",
    "\n",
    "\n",
    "p_tags = main_content.find_all('p')\n",
    "h1_tags=main_content.find(\"h1\")\n",
    "print(h1_tags.text)\n",
    "for i in p_tags:\n",
    "    print(i.text)"
   ]
  },
  {
   "cell_type": "code",
   "execution_count": null,
   "id": "306d9c42",
   "metadata": {},
   "outputs": [
    {
     "name": "stdout",
     "output_type": "stream",
     "text": [
      "      Pakistanis issue chilling threat to Asim Munir outside Washington hotel: 'You are in basement, we are here to hunt you'\n",
      "Pakistan army chief Asim Munir, who is on a so-called strategic visit to United States, faced humiliation on Monday after demonstrators linked to Imran Khan's PTI staged protests and chanted slogans outside the hotel where he was staying.\n",
      "In a video posted on X, Pakistani-Americans can be heard abusing Asim Munir, calling him a \"dictator\", \"bas****\", and a \"mass murderer\".\n",
      "\"We are here to welcome Asim Munir. This is the Washington Four Seasons hotel. And this (points to a billboard) is telling him what he has done to Pakistan,\" one of the protesters can be heard saying as he points to an ad showing a picture of the Pakistan army chief along with the words \"Mass Murderer\".\n",
      "The ad switched to another image, saying: \"Democracy Dies when Guns Speak!\". Another carried the message: “Asim Munir, your time is up. Pakistan will rise!”.#WATCH | Pakistani citizens in the U.S. protest against their own Army Chief, Field Marshal Asim Munir, during his visit.Chants of Asim Munir, you are a coward were heard, leading to a major embarrassment for Pakistan on foreign soil. pic.twitter.com/QdzHLGC3X5Organiser Weekly (@eOrganiser) June 17, 2025\n",
      "The man in the video then issued an open threat to Munir, saying that the protesters know exactly where the army chief was \"hiding\".\n",
      "\"Asim Munir, you can hide, you are in (the) second basement, down underneath, and people are here to hunt you,\" he said.\n",
      "Later, in the video, the protesters can be heard chanting anti-Munir slogans such as: \"Shame on you, Bas***d\", \"Civilian supremecy in Pakistan, and \"Shame on your dictator\".\n",
      "The protesters were also confronted by the hotel staff, with a woman asking them to retreat, saying that \"this is private property\".\n",
      "Munir’s visit to the US—coming just weeks after heightened tensions with India—has been overshadowed by protests from overseas Pakistanis angered by the military crackdown on former Prime Minister Imran Khan and his supporters.\n",
      "Ahead of Munir's planned visit, a truck-mounted digital billboard in New York’s Times Square openly mocked and condemned the country’s top military and political leaders.\n",
      "The billboards described Asim Munir, who was recently elevated to the field marshal rank, as a \"liar\" and \"fraud marshal\". It also labeled President Asif Ali Zardari and PM Shehbaz Sharif as his \"two crooks\".\n",
      "The billboard display comes at a time when Munir is tightening his grip on power at home even as many Pakistanis remain disillusioned with the all-powerful military and its crackdown against Imran Khan.\n",
      "Notably, Imran Khan's aides had won a majority of seats in the general elections held last year. Despite that, a coalition led by Shehbaz Sharif's PML-N formed a government at the centre - with a strong backing of the military.\n",
      "Following the arrest of Imran Khan in 2023, Pakistan witnessed widespread protests led by his supporters, who accused the military and Prime Minister Shehbaz Sharif's government of orchestrating his ouster.\n",
      "Demonstrations erupted across major cities, with protesters targeting military installations, including the Corps Commander’s residence in Lahore.\n",
      "       \n"
     ]
    }
   ],
   "source": [
    "#moneycontrol\n",
    "\n",
    "import requests\n",
    "from bs4 import BeautifulSoup\n",
    "\n",
    "url = 'https://www.moneycontrol.com/world/pakistanis-issue-threat-to-asim-munir-outside-washington-hotel-you-are-in-basement-we-are-here-to-hunt-you-article-13131485.html'\n",
    "response = requests.get(url)\n",
    "soup = BeautifulSoup(response.content, 'html.parser')\n",
    "\n",
    "main_content = soup.find(\"div\",class_=\"content_wrapper arti-flow\",id=\"contentdata\")\n",
    "heading=soup.find(\"h1\",class_=\"article_title artTitle\")\n",
    "\n",
    "p_tags = main_content.find_all('p')\n",
    "h1_tags=main_content.find(\"h1\")\n",
    "print(heading.text)\n",
    "for i in p_tags:\n",
    "    print(i.text)"
   ]
  },
  {
   "cell_type": "code",
   "execution_count": 49,
   "id": "aa9621a8",
   "metadata": {},
   "outputs": [
    {
     "name": "stdout",
     "output_type": "stream",
     "text": [
      "\n",
      "Rising cases of COVID-19 bring to fore associated threat of deep vein thrombosis\n",
      "Premium\n",
      "Deep vein thrombosis and the complications associated with it remain even after recovery from Covid-19, doctors say; a National Academy of Medical Sciences report has previously warned that India does not have enough trained healthcare personnel or resources to prevent and manage DVT and its complications \n",
      "India has registered a rise in COVID-19 cases beginning from last week of May this year. As of June 16, the country has 7,264 active cases.  The World Health Organisation in its recent report (week of May 19 to 25 2025)  that SARS-CoV-2 activity was generally low globally, though elevations have been reported in a few countries in Central America and the Caribbean, Tropical South America, South West and Northern Europe, Western Asia, Southern Asia, South-East Asia, and Eastern Asia.\n",
      "While doctors have stressed that there is no need to panic as a majority of the cases are mild and do not require hospitalisation, this spike in cases, has brought to the fore once again, several associated health risks including deep vein thrombosis (DVT) -- both during and after infection.\n",
      "“This risk of DVT remains elevated even after recovery from Covid-19, with the risk ratio increasing up to 70 days post-infection,’’ said Anil Bansal, member, Delhi Medical Association (DMA). The risk is particularly high in the first week after diagnosis. While the risk decreases in subsequent weeks, it remains elevated for several weeks post-infection, he added.\n",
      "Deep vein thrombosis (DVT) occurs when a clot forms in one of the deep veins of the body. This usually occurs in the leg. DVT can be dangerous, as the blood clot can break free and travel through the bloodstream. If the blood clot gets lodged in the lung and blocks blood flow, it can lead to pulmonary embolism, which can be life threatening.\n",
      "Venous thromboembolism (VTE) occurs with deep vein thrombosis (DVT) and pulmonary embolism (PE). It can result in significant mortality, morbidity, and healthcare costs. Approximately 30% of patients with symptomatic VTE manifest with PE, and others with DVT. The incidence of DVT in India in the general population is about 1.79 per thousand. More than 50% of post-surgical procedure patients are at risk of developing VTE. The prevailing notion that the incidence of VTE in Asians is less than that in the Western population has been disproved by recent reports.\n",
      "Previously, a taskforce report by the National Academy of Medical Sciences (India), Delhi on Venous Thromboembolism had noted that in view of the ageing population of India and the increasing burden of non-communicable diseases along with infectious diseases affecting healthcare service delivery, there is a dire need to understand the  early impact on the incidence and burden of deep venous thrombosis (DVT) and pulmonary embolism (PE) in India.\n",
      "Increasing age, being male, trauma, surgery, prolonged hospitalisation, malignancy, neurologic disease, central venous catheter, prior superficial vein thrombosis, and varicose veins have been identified as some of the major risk factors for developing VTE. In women, oral contraceptive pill use, pregnancy, and hormone replacement therapy are established as independent risk factors. Some of the important risk factors for surgical patients developing VTE are age, type of surgery, length of procedure, and duration of immobilisation.\n",
      "The task force stated that appropriate prevention and management of VTE was vital but in India, lack of trained human resources (healthcare professionals); inadequate laboratory diagnostic support; inadequate availability of pharmaceutical supplies; lack of awareness in the community; need for suitable research along with equitable distribution of facilities for the management of VTE – hamper 100 per cent safety of patients.\n",
      "Aabid Amin Bhatt, medical director, Ujala Cygnus Group of Hospitals explained that COVID-19 and its link with a higher chance of VTE, including DVT and PE, is now well established.\n",
      "“This link comes from the virus’s ability to cause a strong inflammatory reaction, often called a cytokine storm, which can disrupt the usual way blood clots. Research has found that patients, particularly those in the hospital with severe COVID-19, have a hypercoagulable state, meaning their blood is more likely to clot. The virus also directly harms the endothelial cells that line blood vessels, which further increases the risk of clots forming,’’ said Dr. Bhat. He added that recent research indicates that even after recovery, individuals who had COVID-19 may remain at an elevated risk for thrombotic events for several months.\n",
      "This has prompted ongoing updates to clinical guidelines recommending thromboprophylaxis (blood thinning treatment) during hospitalisation and, in some cases, even post-discharge. The medical community now regards COVID-19 not just as a respiratory illness, but also as a systemic vascular disease with serious implications for blood clotting and cardiovascular health, he said.\n",
      "Abhishek Bansal, senior consultant and chief interventional radiologist, Aakash Healthcare said that a very high percentage of patients admitted with severe COVID-19 infections were observed to be affected by this condition. “This was noted to be primarily because they had been hospitalised in the ICU for extended periods. Any duration of immobilisation or prolonged bed rest was noted to increase the risk of developing DVT or pulmonary embolism,’’ he said.\n",
      "Dr. Bansal stressed that COVID-19 vaccines demonstrated that they are highly efficacious in preventing the occurrence of DVT and pulmonary embolism. “At the same time, some concerns had been raised about the vaccines themselves potentially causing DVT in a few individuals. However, it has been clearly documented that this risk is extremely low—estimated at approximately one in 10 lakh (one million) patients. Even in such rare cases, the condition is generally mild. It has been emphasised that if the individual had instead suffered from an actual COVID-19 infection, the risk of developing DVT or pulmonary embolism would have been substantially higher,’’ he said.\n",
      "“Anticoagulant medicine have now been added as a standard treatment protocol of Covid-19 and many deaths have been prevented after we established the relationship between the two medical conditions, ’’ noted. Surinder Kumar Gupta, associate director, pulmonology, Paras Health, Panchkula.\n",
      "Meanwhile, the WHO noted that it is currently tracking several SARS-CoV-2 variants including variants of interest (JN.1) and variants under monitoring (LP.8.1, NB.1.8.1, XEC, KP.3.1.1, KP.3, and LB.1).\n",
      "“The most prevalent variant, LP.8.1, accounted for 27% of all submitted sequences in the week ending on 25 May 2025 which is a decrease from 32% in the week ending on 27 April 2025. NB.1.8.1 accounted for 21% of all submitted sequences in the week ending on 25 May 2025, a significant increase from 9% in the week ending on 27 April 2025,’’ it said in the recently released data.\n",
      "WHO added that during this reporting period, all other variants showed a stable or decreasing trend.\n",
      "“Available evidence suggests that JN.1, XEC, LP.8.1, and NB.1.8.1 do not pose additional public health risks relative to other currently circulating SARS-CoV-2 variants,’’ it said.\n",
      "At the regional level, LP.8.1 decreased in the Americas and the Western Pacific Region, but slightly increased in the European Region. XEC decreased in all regions with sufficient data. NB.1.8.1 increased in the Americas, Europe, and the Western Pacific Region, but decreased in South-East Asia.\n",
      " Published - June 16, 2025 01:38 pm IST\n",
      "\n",
      "                        Coronavirus\n",
      "                    \n",
      "                            /                      \n",
      "                        \n",
      "                        health\n",
      "                    \n",
      "                            /                      \n",
      "                        \n",
      "                        medicine\n",
      "                    \n"
     ]
    }
   ],
   "source": [
    "#thehindu\n",
    "\n",
    "import requests\n",
    "from bs4 import BeautifulSoup\n",
    "\n",
    "url = 'https://www.thehindu.com/sci-tech/health/rising-cases-of-covid-19-bring-to-fore-associated-threat-of-deep-vein-thrombosis/article69693871.ece'\n",
    "response = requests.get(url)\n",
    "soup = BeautifulSoup(response.content, 'html.parser')\n",
    "\n",
    "main_content = soup.find(\"div\",class_=\"articlebodycontent col-xl-9 col-lg-12 col-md-12 col-sm-12 col-12\")\n",
    "mai_content = soup.find(\"h1\",class_=\"title\")\n",
    "sub_head=soup.find(\"h2\",class_=\"sub-title\")\n",
    "\n",
    "p_tags = main_content.find_all('p')\n",
    "\n",
    "print(mai_content.text)\n",
    "print(sub_head.text)\n",
    "for i in p_tags:\n",
    "    print(i.text)"
   ]
  },
  {
   "cell_type": "code",
   "execution_count": null,
   "id": "e6c764dd",
   "metadata": {},
   "outputs": [
    {
     "ename": "SyntaxError",
     "evalue": "'(' was never closed (19048765.py, line 7)",
     "output_type": "error",
     "traceback": [
      "  \u001b[36mCell\u001b[39m\u001b[36m \u001b[39m\u001b[32mIn[66]\u001b[39m\u001b[32m, line 7\u001b[39m\n\u001b[31m    \u001b[39m\u001b[31mresponse = requests.get(url\u001b[39m\n                           ^\n\u001b[31mSyntaxError\u001b[39m\u001b[31m:\u001b[39m '(' was never closed\n"
     ]
    }
   ],
   "source": [
    "# #thehindustan time\n",
    "\n",
    "# import requests\n",
    "# from bs4 import BeautifulSoup\n",
    "\n",
    "# url = 'https://www.hindustantimes.com/world-news/israeli-minister-warns-irans-ayatollah-khamenei-could-meet-fate-similar-to-saddam-hussein-what-happened-to-101750153414496.html'\n",
    "# response = requests.get(url)\n",
    "# soup = BeautifulSoup(response.content, 'html.parser')\n",
    "\n",
    "# print(response.text)\n",
    "# soup\n",
    "\n"
   ]
  },
  {
   "cell_type": "code",
   "execution_count": 115,
   "id": "3f153067",
   "metadata": {},
   "outputs": [
    {
     "name": "stdout",
     "output_type": "stream",
     "text": [
      "Another flight cancelled: Air India cancels Paris-bound AI143 flight; 'issue' during pre-boarding checks\n",
      " File photo NEW DELHI: Air India on Tuesday said its Paris-bound flight AI143 was cancelled after pre-flight checks identified an issue.The Air India spokesperson further said that the flight was cancelled as Charles de Gaulle (CDG) airport in Paris restricted night operations.\"Flight AI143 from Delhi to Paris of 17 June has been cancelled. The mandatory pre-flight checks identified an issue which is being presently addressed. However, in view of the flight coming under the restrictions on night operations at Paris Charles de Gaulle (CDG) airport, the said flight has been cancelled,\" Air India Spokesperson said.The Tata-owned airlines said that they were \"providing hotel accommodation and also offering full refunds on cancellations or complimentary rescheduling if opted by the passengers\".The return flight AI142 from Paris to Delhi on June 18 was also cancelled.\"Consequently, flight AI142 from Paris to Delhi on June 18, 2025 also stands cancelled,\" the issue further read.Just a few hours ago, the aviation company cancelled a flight from Ahmedabad to London’s Gatwick Airport.The airline, however, clarified the reason behind the cancellation of its Ahmedabad–Gatwick flight AI159, denying rumours of a technical fault. In a statement, the airline said: \"Flight AI159 from Ahmedabad to Gatwick has been cancelled today due to the unavailability of the aircraft, resulting from airspace restrictions and additional precautionary checks, leading to longer than usual turnaround of aircraft, and not due to any technical snag as claimed.\"The flight was cancelled just two days after a deadly crash involving the same route.On June 12, Air India Flight AI171 crashed shortly after takeoff from Ahmedabad, killing 241 of the 242 people onboard, as well as several on the ground. AI-159 is now the renamed code for AI-171.As flight operations continue to face disruptions, the Director General of the Directorate General of Civil Aviation (DGCA) has summoned an urgent virtual meeting with Air India and Air India Express officials.\n"
     ]
    }
   ],
   "source": [
    "#times of india\n",
    "\n",
    "import requests\n",
    "from bs4 import BeautifulSoup\n",
    "\n",
    "url = 'https://timesofindia.indiatimes.com/india/another-flight-cancelled-air-india-cancels-paris-bound-ai143-flight-after-issue-releases-statement/articleshow/121907975.cms'\n",
    "response = requests.get(url)\n",
    "soup = BeautifulSoup(response.content, 'html.parser')\n",
    "\n",
    "main_content = soup.find(\"div\",class_=\"_s30J clearfix\")\n",
    "\n",
    "heading=soup.find(\"h1\",class_=\"HNMDR\")\n",
    "main_content_text = main_content.get_text()\n",
    "print(heading.text)\n",
    "print(main_content_text)\n"
   ]
  },
  {
   "cell_type": "code",
   "execution_count": null,
   "id": "36c79275",
   "metadata": {},
   "outputs": [
    {
     "name": "stdout",
     "output_type": "stream",
     "text": [
      "\n",
      "                                    Pakistan Army Chief Asim Munir faces public backlash with protests as he arrives at Washington hotel\n",
      "Several videos on social media showed people chanting slogans like--\"Asim Munir, you are a coward\", “shame on you, mass murderer\" and “shame on you, dictator\"-- as the army chief reached the hotel in Washington. \n",
      "Pakistan Army Chief General Syed Asim Munir, who is in the United States on an official visit, faced a major public backlash on Tuesday with protests in Washington. Pakistani nationals and people of Pakistani origin protested near Munir's hotel in Washington and called for the restoration of what they described as “unfettered democracy” in Pakistan.\n",
      "\n",
      "\n",
      "Several videos on social media showed people chanting slogans like--\"Asim Munir, you are a coward\", “shame on you, mass murderer\" and “shame on you, dictator\"-- as the army chief reached the hotel in Washington. People were seen arguing with the authorities as they tried to stop him from entering the premises.\n",
      "\n",
      "These massive protest was reportedly organised by Pakistan Tehreek-e-Insaf (PTI) supporters, who have long opposed the current Pakistani establishment. Before Minir's visit to the US was officially announced, former Prime Minister Imran Khan's PTI called for a protest outside the Pakistani embassy in Washington.\n",
      "One video, recorded by an unidentified man, showed the cavalcade of Asim Munir as he arrived at Washington's Four Seasons hotel.\n",
      "\"We are here to welcome Asim Munir. This is Washington's Four Seasons hotel. This is telling him what he has done to Pakistan,\" the man said, showing a screen with the message 'Mass Murderer'.\n",
      "It should be noted that Asim Munir was recently promoted to the rank of Field Marshal, days after the country's military suffered massive loss during in its conflict with India.\n",
      "Asim Munir reached Washington on Sunday for a five-day official visit aimed at reinforcing military and strategic ties with the United States, according to a report by Dawn. \n",
      "Reports claimed his visit as “primarily bilateral in nature”, and is not officially linked to the US Army's 250th anniversary celebrations on June 14, despite its timing. \n",
      "Earlier there were reports that the Pakistan's Field Marshal was invited to the Washington Military Parade, but the claim was categorically denied by the White House.\n",
      " \n"
     ]
    }
   ],
   "source": [
    "#indiatv\n",
    "\n",
    "\n",
    "import requests\n",
    "from bs4 import BeautifulSoup\n",
    "\n",
    "url = 'https://www.indiatvnews.com/news/world/pakistan-army-chief-asim-munir-faces-public-backlash-with-protests-as-he-arrives-at-washington-hotel-2025-06-17-995047'\n",
    "response = requests.get(url)\n",
    "soup = BeautifulSoup(response.content, 'html.parser')\n",
    "\n",
    "main_content = soup.find(\"div\",class_=\"lhs\")\n",
    "\n",
    "heading=soup.find(\"h1\",class_=\"arttitle\")\n",
    "sub_heading=soup.find(\"h2\",class_=\"artdesc\")\n",
    "main_content_text = main_content.find_all(\"p\")\n",
    "print(heading.text)\n",
    "print(sub_heading.text)\n",
    "for i in main_content_text:\n",
    "    if i.find_parent(\"div\", class_=\"tableouter\") is None:\n",
    "        print(i.text)\n",
    "\n",
    "\n"
   ]
  },
  {
   "cell_type": "code",
   "execution_count": null,
   "id": "8ca7aff8",
   "metadata": {},
   "outputs": [
    {
     "data": {
      "text/plain": [
       "\"Written by: Abhinav RanjanUpdated Jun 17, 2025 11:06 ISTVishal Mega Mart share price tanks 9% after block deal - details (Pic: Shutterstock/ ET NOW) Vishal Mega Mart Share Price ,  Block Deal : Shares of  Vishal Mega Mart  toady (June 17, Tuesday) crashed 9 per cent on the back of a block deal. The counter opened gap down with a loss of more than 7 per cent at Rs 115.49 on NSE versus the previous close of Rs 124.85. Vishal Mega Mart shares extended the loss and made a low of Rs 113.50 in early morning deals, down 9.09 per cent -- this is lowest since May 2, 2025.At 10:15 AM, Vishal Mega Mart shares traded 4 per cent lower at Rs 120 apiece. As many as 103.68 crore shares of the company changed hands around the same time. The counter is trading higher than 50-day, 100-day and 200-day moving averages but lower than 5-day and 20-day moving averages.Vishal Mega Mart Block DealThe selling pressure in Vishal Mega Mart came following a block deal. The official parties involved in the transaction are not currently known. But reports earlier said that promoter was set to trim stake in the company by 10 per cent through block deals. If reports are to go by, according to ET, Vishal Mega Mart's promoter, Samayat Services LLP, likely offloaded stake via a block deal. The floor price was believed to be Rs 110 apiece, down more than 10 per cent from Monday's closing of Rs 124.85. According to trendlyne data, Samayat Services LLP held 74.6 per cent stake in the company before today's likely block deal.Vishal Mega Mart, a diversified retail company, had launched its IPO in December 2024. The company had issued its shares at Rs 78 in the primary market. Shares of the mid-cap company, which commands a market capitalisation of Rs 55,958 crore, have climbed 18 per cent in the past three months.In the fourth quarter of FY2025 (Q4 FY25), the company had reported 88 per cent YoY surge in net profit to Rs 115.1 crore while revenue from operations came in at Rs 2547.9 crore.\""
      ]
     },
     "execution_count": 110,
     "metadata": {},
     "output_type": "execute_result"
    }
   ],
   "source": [
    "#etnow\n",
    "import requests\n",
    "from bs4 import BeautifulSoup\n",
    "\n",
    "url = 'https://www.etnownews.com/markets/vishal-mega-mart-share-price-tanks-9-after-block-deal-details-article-152007481'\n",
    "response = requests.get(url)\n",
    "soup = BeautifulSoup(response.content, 'html.parser')\n",
    "\n",
    "# Get the main content div\n",
    "main_content = soup.find(\"div\", class_=\"_11eWE\")\n",
    "\n",
    "s=str(main_content.text)\n",
    "slice1=s.find(\"(Disclaimer: The above article is meant for informational purposes only, and should not be considered as any investment advice. ET NOW DIGITAL suggests its readers/audience to consult their financial advisors before making any money related decisions.)\")\n",
    "s=s[:slice1]\n",
    "s"
   ]
  },
  {
   "cell_type": "code",
   "execution_count": 112,
   "id": "0ee811f7",
   "metadata": {},
   "outputs": [
    {
     "name": "stdout",
     "output_type": "stream",
     "text": [
      "Why bitcoin has touched all time high of $110k following a key crypto bill in US\n",
      "Bitcoin has reached a new all-time high as it breached the $110,000 cap for the first time, following the advancement of a key crypto bill in the United States Senate, which has received bipartisan support, and is expected to aid those running crypto businesses.\n",
      "The bill, called the Guiding and Establishing National Innovation for US Stablecoins (GENIUS) Act, has advanced in the US Senate, after some Democrat members who had initially opposed it, joined their Republican colleagues in supporting the bill, which regulated primarily stablecoin.\n",
      "Bitcoin has fallen last month briefly over geopolitical uncertainties following Trump’s tariff-induced assault on many countries, triggering fears of a global economic turmoil. However, with some of those concerns reducing, after events like the US signing a trade deal with China, the digital currency has been gaining momentum. The GENIUS Act played a further role in its upward surge.\n",
      "While the bill has received support from some Democrat members because of which it moves forward in the US Senate, there are growing concerns that US President Donald Trump — once a crypto sceptic — and some of his supporters from the crypto and tech industry could personally benefit from it. Trump and his wife Melania have issued their own meme coins and have an active interest in the crypto market going up.\n",
      "At its core, the GENIUS Act focuses on regulating stablecoins, a type of cryptocurrency that is pegged to more predictable assets like the US dollar. Among others, it also allows big tech companies to issue stablecoins, in what is being seen as a big win for many of Trump’s supporters from the industry, who threw their weight behind him in the run-up to the Presidential bid and have continued their support to him since his reelection.\n",
      "The bill says that issuers must comply with anti-money laundering (AML) and anti-terrorism regulations, as well as privacy requirements under existing banking laws. It requires that crypto issuers must fully back stablecoins with fiat currency or high-quality liquid assets at a 1:1 ratio. They would also have to maintain reserves separate from operational funds and disclose these reserves publicly, with regular third-party audits.\n",
      "Mark R Wright, Democrat Senator from the state of Virginia, who has supported the bill said that while many lawmakers have concerns about the Trump family’s use of crypto technologies to “evade oversight, hide shady financial dealings, and personally profit at the expense of everyday Americans”.\n",
      "“But,” he said in justification of his support to the bill, “we cannot allow that corruption to blind us to the broader reality: blockchain technology is here to stay. If American lawmakers don’t shape it, others will – and not in ways that serve our interests or democratic values. Innovation in this space is happening, with or without us. We have a responsibility to ensure it happens safely, transparently, and in a way that advances U.S. economic and national security interests. The GENIUS Act will help get us started”.\n",
      "Even though the GENIUS Act received bipartisan support in the US Senate, some Democrat members came down heavily against it.\n",
      "As per a fact sheet released by Senator Elizabeth Warren, Ranking Member of the US Senate Committee on Banking, Housing and Urban Affairs, said, “A strong bill would ensure that consumers enjoy the same consumer protections when using stablecoins as they do when using other payment systems, close loopholes that enable the illicit use of stablecoins by cartels, terrorists, and criminals, and reduce the risk that stablecoins take down our financial system. The GENIUS Act does not meet those minimum standards”.\n",
      "Warren said that while industry estimates suggest that  passing the GENIUS Act could help the stablecoin market grow 10-fold over the next three years to a $2 trillion market, Scaling up the stablecoin market without adequate safeguards risks increasing the “illicit use of stablecoins, which already account for over 60% of unlawful crypto transactions”.\n",
      "There are also concerns around potential conflict of interest for US President Donald and his growing cryptocurrency firm, could inappropriately benefit from crypto. “This bill provides even more opportunities to reward buyers of Trump’s coins with favors like tariff exemptions, pardons and government appointments,” Warren said in a speech ahead of the vote.\n",
      "Another concern in the legislation is that it allows big tech companies to issue stablecoins. Companies like Meta had previously tried to make an unsuccessful foray into the crypto industry. As per the New York Times, some changes have been made to the bill to assuage concerns around the involvement of tech companies, requiring that they seek approval from a regulatory committee before issuing their own stablecoins.\n",
      "While that appeared to assuage concerns of some Democrat members, not everyone was on board. “Despite new language on this issue, the final bill fails to prohibit Big Tech companies from issuing stablecoins. By tearing down the 200-year separation between banking and commerce, this bill undermines competition, threatens financial stability, and erodes financial privacy. While the bill purports to place restrictions on some Big Tech companies’ ability to issue stablecoins, those restrictions are riddled with straightforward and easily identifiable loopholes,” Warren said in her fact sheet.\n",
      " Soumyarendra Barik is Special Correspondent with The Indian Express and reports on the intersection of technology, policy and society. With over five years of newsroom experience, he has reported on issues of gig workers’ rights, privacy, India’s prevalent digital divide and a range of other policy interventions that impact big tech companies. He once also tailed a food delivery worker for over 12 hours to quantify the amount of money they make, and the pain they go through while doing so. In his free time, he likes to nerd about watches, Formula 1 and football.                        ... Read More \n",
      "\n"
     ]
    }
   ],
   "source": [
    "#indian express\n",
    "\n",
    "\n",
    "import requests\n",
    "from bs4 import BeautifulSoup\n",
    "\n",
    "url = 'https://indianexpress.com/article/business/bitcoin-all-time-high-us-crypto-bill-10023531/'\n",
    "response = requests.get(url)\n",
    "soup = BeautifulSoup(response.content, 'html.parser')\n",
    "\n",
    "main_content = soup.find(\"div\",class_=\"full-details\")\n",
    "heading=soup.find(\"h1\",class_=\"native_story_title\")\n",
    "\n",
    "p_tags = main_content.find_all('p')\n",
    "h1_tags=main_content.find(\"h1\")\n",
    "print(heading.text)\n",
    "for i in p_tags:\n",
    "    print(i.text)"
   ]
  },
  {
   "cell_type": "code",
   "execution_count": 116,
   "id": "970be3bc",
   "metadata": {},
   "outputs": [
    {
     "name": "stdout",
     "output_type": "stream",
     "text": [
      "Charles Leclerc goes official with girlfriend Alexandra Saint-Mleux at the F1 movie premiere — and fans are obsessed\n",
      "TrendingCharles Leclerc goes official with girlfriend Alexandra Saint-Mleux at the F1 movie premiere — and fans are obsessedCharles Leclerc goes official with girlfriend Alexandra Saint-Mleux at the F1 movie premiere — and fans are obsessedCharles Leclerc made his red carpet debut with girlfriend Alexandra Saint-Mleux at the F1: The Movie premiere in New York, where the couple turned heads with their effortless chemistry and elegant style. The F1 star also praised the Brad Pitt starrer film. Shivani NegiUpdated: Jun 17, 2025, 17:28 IST  4  min read  F1 star Charles Leclerc goes official with girlfriend Alexandra| Credit: XIt’s not every day you see Formula 1 star Charles Leclerc trade in his racing gear for a red carpet look, but that’s exactly what happened at the premiere of Brad Pitt's upcoming film, F1: The Movie, in New York City. And what's even more surprising is that he brought his girlfriend, Alexandra Saint-Mleux, along with him, marking their first official appearance. Held in the heart of Times Square, the premiere felt more like a Grand Prix afterparty than a typical movie launch, with real F1 cars on display and cameras flashing nonstop. But it was Charles and Alexandra—walking in hand-in-hand—who stole the spotlight.Charles Leclerc and Alexandra make a stylish appearance at F1: The Movie premiereCharles showed up in an off-white suit that somehow made him look both polished and totally effortless. Alexandra matched the vibe perfectly in a black satin dress with delicate accessories—simple, elegant, and very her. While they’ve been spotted together here and there, this is one of their first big public appearances as a couple.charles leclerc and alexandra saint mleux. that is it. that’s the tweet pic.twitter.com/nDYcm6j4CJ— best of charles and alex (@archivechalex) June 17, 2025 Charles Leclerc and Alexandra Saint Mleux for the F1 movie premiere in New York pic.twitter.com/j5pA8YXlTm— best of charles and alex (@archivechalex) June 16, 2025 What did Charles think of the film?After walking the red carpet, Charles shared his honest thoughts on F1: The Movie, which stars Brad Pitt as an F1 racer and features real race footage from actual Grand Prix weekends.“I loved it,” he said. “It felt super Hollywood, but they did such a great job keeping it real. They filmed during our actual races, and it didn’t mess with us at all. The only scene I acted in was the podium at the end of the year. Everything else you see? \"That's real.”Yes, that means you’ll actually spot Charles racing alongside Pitt in the 2024 Abu Dhabi Grand Prix footage—where, by the way, he finished third in real life.Who is Alexandra Saint-Mleux?\n",
      "Credit: Instagram/alexandrasaintmleux\n",
      "Alexandra may not be a household name (yet), but she has already built a strong following on TikTok and Instagram, where she shares art history takes, fashion inspiration, and soft-spoken glimpses into her daily life. She and Charles reportedly started dating sometime in 2023, and while they keep things low-key, fans love how grounded and private their relationship feels. The duo has also been spotted together at Taylor Swift's Eras Tour as Alexandra is also a known Swiftie, which only makes the internet love her more.\n",
      "Credit: Instagram/alexandrasaintmleuxAdditionally, the couple have been spotted together at places like Wimbledon, a Lakers game in Los Angeles, and strolling through the streets of Paris. They also share a dog named Leo, who occasionally makes an appearance on Charles’ Instagram, making them low-key one of F1’s favourite dog parents.To stay updated on the stories that are going viral, follow Indiatimes Trending.  First Published: Jun 17, 2025, 17:27 ISTShivani NegiAs an Entertainment Content Writer with 3+ Years of experience, I have been keeping a keen eye on who wore what. A self confessed Koreaboo, I am your fangirl next door. Ps: I take pride in saying that I grew up watching \"It's Controversial\" as a kid.Read More \n"
     ]
    }
   ],
   "source": [
    "#india times\n",
    "\n",
    "\n",
    "import requests\n",
    "from bs4 import BeautifulSoup\n",
    "\n",
    "url = 'https://www.indiatimes.com/trending/charles-leclerc-goes-official-with-girlfriend-alexandra-saint-mleux-at-the-f1-movie-premiere-and-fans-are-obsessed-661303.html'\n",
    "response = requests.get(url)\n",
    "soup = BeautifulSoup(response.content, 'html.parser')\n",
    "\n",
    "main_content = soup.find(\"div\",class_=\"article-description-0\")\n",
    "\n",
    "heading=soup.find(\"h1\",class_=\"article-title\")\n",
    "main_content_text = main_content.get_text()\n",
    "print(heading.text)\n",
    "print(main_content_text)\n"
   ]
  },
  {
   "cell_type": "code",
   "execution_count": null,
   "id": "08c3b3d1",
   "metadata": {},
   "outputs": [],
   "source": []
  }
 ],
 "metadata": {
  "kernelspec": {
   "display_name": "Python 3",
   "language": "python",
   "name": "python3"
  },
  "language_info": {
   "codemirror_mode": {
    "name": "ipython",
    "version": 3
   },
   "file_extension": ".py",
   "mimetype": "text/x-python",
   "name": "python",
   "nbconvert_exporter": "python",
   "pygments_lexer": "ipython3",
   "version": "3.11.5"
  }
 },
 "nbformat": 4,
 "nbformat_minor": 5
}
