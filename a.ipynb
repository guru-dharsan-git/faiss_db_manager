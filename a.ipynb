{
 "cells": [
  {
   "cell_type": "code",
   "execution_count": null,
   "id": "62c8435d",
   "metadata": {},
   "outputs": [],
   "source": []
  },
  {
   "cell_type": "code",
   "execution_count": null,
   "id": "c5476e73",
   "metadata": {},
   "outputs": [
    {
     "name": "stdout",
     "output_type": "stream",
     "text": [
      "Toys 'R' Us brand may be brought back to life\n",
      "JCPenney names Jill Soltau as its new CEO\n",
      "S&P downgrades debt-riddled GE and GE Capital\n",
      "Goldman Sachs slants research to help Democrats, top White House adviser says\n",
      "Meet GE's new boss: Can Larry Culp right the ship?\n",
      "Land O'Lakes CEO Beth Ford, from the cornfield to the C-suite\n",
      "GE unexpectedly removes its CEO\n",
      "The next big test for Elon Musk arrives this week\n",
      "The S&P 500 achieves best quarter since 2013\n",
      "Walgreens knew its profit forecast was wrong but didn't tell investors, SEC says\n",
      "JCPenney is now without a CEO or a CFO\n",
      "The SEC just went nuclear on Elon Musk. Here's what happens next\n",
      "BlackBerry's comeback continues\n",
      "SEC sues Elon Musk\n",
      "Cadillac moving its headquarters back to Michigan\n",
      "Bed Bath & Beyond plunges on awful sales. Stock at 18-year low\n",
      "General Electric is in a sharp decline\n",
      "SurveyMonkey's stock surges and Sheryl Sandberg plans to donate millions in proceeds\n",
      "So much for September being awful for stocks\n",
      "Tinder is giving women more control in India\n"
     ]
    }
   ],
   "source": []
  },
  {
   "cell_type": "code",
   "execution_count": null,
   "id": "4eaecd57",
   "metadata": {},
   "outputs": [],
   "source": []
  }
 ],
 "metadata": {
  "kernelspec": {
   "display_name": "Python 3",
   "language": "python",
   "name": "python3"
  },
  "language_info": {
   "codemirror_mode": {
    "name": "ipython",
    "version": 3
   },
   "file_extension": ".py",
   "mimetype": "text/x-python",
   "name": "python",
   "nbconvert_exporter": "python",
   "pygments_lexer": "ipython3",
   "version": "3.11.5"
  }
 },
 "nbformat": 4,
 "nbformat_minor": 5
}
